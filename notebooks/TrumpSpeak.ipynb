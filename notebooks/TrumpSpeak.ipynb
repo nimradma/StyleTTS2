{
  "nbformat": 4,
  "nbformat_minor": 0,
  "metadata": {
    "colab": {
      "name": "TrumpSpeak-WaveRNN.ipynb",
      "provenance": [],
      "collapsed_sections": [
        "twv3bkOlsqSa"
      ],
      "toc_visible": true
    },
    "kernelspec": {
      "name": "python3",
      "display_name": "Python 3"
    },
    "accelerator": "GPU"
  },
  "cells": [
    {
      "cell_type": "markdown",
      "metadata": {
        "id": "BWb3yOM8s1NR"
      },
      "source": [
        "# Welcome to **TrumpSpeak:**\n",
        "\n",
        "A text-to-speech (TTS) application where you can generate a voice that sounds like the dumbest idiot to have ever been born. The model was trained using Tacotron and the voice is synthesized using a pretrained WaveRNN vocoder. The Trump model already sounded great at 30K steps (from SCRATCH, not a refinement of existing models - crazy, right?!) using 8 hours of professionally cleaned and sliced audio. Overfitting then caused a massive increase in duration loss. I generated the audio and transcript dataset with a tool I specifically created for this specific purpose. Preparing the data only took about 4 hours, not including the time to rip the videos from YouTube. Training took 8 hours. I have no intention of releasing my dataset preparation tool due to how  insanely trivial it makes the process of duplicating someone's voice. Most of the code used here was taken from [ForwardTacotron](https://github.com/as-ideas/ForwardTacotron).\n",
        "\n",
        "Have fun with it. I can't wait to see a bunch of offensive content made with it.\n",
        "\n",
        "Sincerely,\n",
        "\n",
        "**Justsome Fuckingasshole**\n",
        "\n",
        "\n",
        "\n",
        "1.   Click Setup. Give it like 2 minutes to figure all its bullshit out.\n",
        "2.   Wait for the circle thing to stop spinning.\n",
        "3. Click the Clear Output button just below the Start button to clear the shit that just piled up.\n",
        "4. Type some stupid bullshit in the \"speech\" box in the section labeled \"Make Trump Say Shit\"\n",
        "5. You can leave the other settings alone.\n",
        "6. Press the Play Button and wait for it to process\n",
        "7. An audio player will appear once it's ready\n",
        "8. If the voice is fucked, try changing the model iteration to another number. Lower number = more natural pacing but sounds robotic. Higher number = voice forgets how to say shit correctly.\n",
        "9. You can automate speech generation by editing the \"speech.txt\" file. Each line produces a new file.\n",
        "\n",
        "\n",
        "\n"
      ]
    },
    {
      "cell_type": "code",
      "metadata": {
        "id": "smIhlAaZgjKQ",
        "cellView": "form"
      },
      "source": [
        "#@title Setup\n",
        "\n",
        "#generate a speech text file which can be modified and used to automate TTS generation\n",
        "speech_file = open(\"speech.txt\",\"a\")\n",
        "speech_file.write(\"The Chinese corona virus is turning our children into gay communist vegans and that's a terrible thing to have happen to such a great and powerful country.\\nWe must put an end to this attack on our nation by the democrats which I call corona gate.\\nSo please come to my rallies and be sure not to wear those stupid masks.\")\n",
        "speech_file.close()\n",
        "\n",
        "!git clone https://github.com/gormulka/TrumpSpeak.git\n",
        "!mkdir /content/output\n",
        "%cd /content/TrumpSpeak/\n",
        "!apt-get install -y espeak\n",
        "!pip install -r requirements.txt\n",
        "!pip install pydub\n",
        "!pip install librosa==0.7.2\n",
        "\n",
        "from utils import hparams as hp\n",
        "import IPython.display as ipd\n",
        "from pydub import AudioSegment\n",
        "\n",
        "from tensorflow.python.client import device_lib\n",
        "device_lib.list_local_devices()\n",
        "\n",
        "import os\n",
        "import IPython\n",
        "from IPython.display import Audio as play\n",
        "from pathlib import Path\n",
        "import time\n",
        "\n",
        "player = []\n",
        "\n",
        "def playAllAudio():\n",
        "  %cd /content/output/\n",
        "  out_path = \"/content/output/\"\n",
        "  files = os.listdir(out_path)\n",
        "  latest_file = max(files, key=os.path.getctime)\n",
        "  player = [play(out_path + files[0])]\n",
        "  playerIndex = 0\n",
        "  print()\n",
        "  for x in range(0,len(files)):\n",
        "    if Path(out_path + files[x]).suffix == '.wav':\n",
        "      print(files[x])\n",
        "      player.append(play(out_path + files[x]))\n",
        "      playerIndex+=1\n",
        "      time.sleep(1)\n",
        "      IPython.display.display(player[playerIndex])\n",
        "      time.sleep(1)\n",
        "      print()\n",
        "\n",
        "def playMostRecent():\n",
        "  %cd /content/output/\n",
        "  out_path = \"/content/output/\"\n",
        "  files = os.listdir(out_path)\n",
        "  latest_file = max(files, key=os.path.getctime)\n",
        "  print(latest_file)\n",
        "  #player = [play(latest_file)]\n",
        "  player.append(play(out_path + latest_file))\n",
        "  IPython.display.display(player[len(player)-1])\n",
        "  time.sleep(1)\n",
        "\n",
        "\n",
        "print('\\n\\n')\n",
        "\n",
        "print(\"Done! I'm ready to make Trump say some stupid shit.\")"
      ],
      "execution_count": null,
      "outputs": []
    },
    {
      "cell_type": "code",
      "metadata": {
        "cellView": "form",
        "id": "m3fHv9PtJgfm",
        "colab": {
          "base_uri": "https://localhost:8080/",
          "height": 287
        },
        "outputId": "8fb3be83-da8a-4fdc-c2eb-277d0b19b961"
      },
      "source": [
        "#@title Make Trump Say Shit\n",
        "import os\n",
        "import IPython\n",
        "path = \"/content/TrumpSpeak/model_outputs/ljspeech_tts.forward/\"\n",
        "speech = \"We’re gonna make the World Cup great again — absolutely tremendous, folks, believe me. And you’re gonna watch it right here — the best place, nobody does it better — on Kan, Israeli Public Broadcasting Corporation. Incredible people, amazing coverage, you’re gonna love it!”\" #@param {type:\"string\"}\n",
        "\n",
        "model_iteration = 40 #@param {type:\"slider\", min:40, max:100, step:20}\n",
        "\n",
        "talking_speed = 0.9 #@param {type:\"slider\", min:0.5, max:1, step:0.01}\n",
        "\n",
        "modelWeights = str(model_iteration) + \"K.pyt\"\n",
        "playerIndex = 0\n",
        "\n",
        "%cd /content/TrumpSpeak/\n",
        "!python gen_forward.py --alpha $talking_speed --input_text \"$speech\" --hp_file \"/content/TrumpSpeak/pretrained/pretrained_hparams.py\" --tts_weights \"/content/TrumpSpeak/checkpoints/ljspeech_tts.forward/$modelWeights\" wavernn --voc_weights \"/content/TrumpSpeak/pretrained/wave_800K.pyt\" --batched --target=4096 --overlap=32\n",
        "\n",
        "playMostRecent()\n",
        "\n",
        "\n",
        "\n"
      ],
      "execution_count": 2,
      "outputs": [
        {
          "output_type": "stream",
          "name": "stdout",
          "text": [
            "[Errno 2] No such file or directory: '/content/TrumpSpeak/'\n",
            "/content\n",
            "python3: can't open file '/content/gen_forward.py': [Errno 2] No such file or directory\n"
          ]
        },
        {
          "output_type": "error",
          "ename": "NameError",
          "evalue": "name 'playMostRecent' is not defined",
          "traceback": [
            "\u001b[0;31m---------------------------------------------------------------------------\u001b[0m",
            "\u001b[0;31mNameError\u001b[0m                                 Traceback (most recent call last)",
            "\u001b[0;32m/tmp/ipython-input-1633955740.py\u001b[0m in \u001b[0;36m<cell line: 0>\u001b[0;34m()\u001b[0m\n\u001b[1;32m     15\u001b[0m \u001b[0mget_ipython\u001b[0m\u001b[0;34m(\u001b[0m\u001b[0;34m)\u001b[0m\u001b[0;34m.\u001b[0m\u001b[0msystem\u001b[0m\u001b[0;34m(\u001b[0m\u001b[0;34m'python gen_forward.py --alpha $talking_speed --input_text \"$speech\" --hp_file \"/content/TrumpSpeak/pretrained/pretrained_hparams.py\" --tts_weights \"/content/TrumpSpeak/checkpoints/ljspeech_tts.forward/$modelWeights\" wavernn --voc_weights \"/content/TrumpSpeak/pretrained/wave_800K.pyt\" --batched --target=4096 --overlap=32'\u001b[0m\u001b[0;34m)\u001b[0m\u001b[0;34m\u001b[0m\u001b[0;34m\u001b[0m\u001b[0m\n\u001b[1;32m     16\u001b[0m \u001b[0;34m\u001b[0m\u001b[0m\n\u001b[0;32m---> 17\u001b[0;31m \u001b[0mplayMostRecent\u001b[0m\u001b[0;34m(\u001b[0m\u001b[0;34m)\u001b[0m\u001b[0;34m\u001b[0m\u001b[0;34m\u001b[0m\u001b[0m\n\u001b[0m\u001b[1;32m     18\u001b[0m \u001b[0;34m\u001b[0m\u001b[0m\n\u001b[1;32m     19\u001b[0m \u001b[0;34m\u001b[0m\u001b[0m\n",
            "\u001b[0;31mNameError\u001b[0m: name 'playMostRecent' is not defined"
          ]
        }
      ]
    },
    {
      "cell_type": "code",
      "metadata": {
        "cellView": "form",
        "id": "sO9JlBtvS5lu"
      },
      "source": [
        "#@title Process entire speech file (speech.txt)\n",
        "import os\n",
        "import IPython\n",
        "from IPython.display import Audio as play\n",
        "from pathlib import Path\n",
        "import time\n",
        "\n",
        "lineIndex = 0\n",
        "playerIndex = 0\n",
        "player = []\n",
        "model_iteration = 80 #@param {type:\"slider\", min:40, max:100, step:20}\n",
        "talking_speed = 0.9 #@param {type:\"slider\", min:0.5, max:1, step:0.01}\n",
        "modelWeights = str(model_iteration) + \"K.pyt\"\n",
        "\n",
        "out_path = \"/content/output/\"\n",
        "\n",
        "speechPath = '/content/speech.txt'\n",
        "\n",
        "files = os.listdir(out_path)\n",
        "for file in files:\n",
        "  file = out_path + file\n",
        "with open(speechPath) as fp:\n",
        "  line = fp.readline()\n",
        "  cnt = 1\n",
        "  lineIndex = 0\n",
        "  playerIndex = 0\n",
        "  player = []\n",
        "  while line:\n",
        "    print(\"Line {}: {}\".format(cnt, line.strip()))\n",
        "\n",
        "    cnt += 1\n",
        "    %cd /content/TrumpSpeak//\n",
        "    !python /content/TrumpSpeak/gen_forward.py --alpha 0.9 --input_text \"$line\" --hp_file \"/content/TrumpSpeak/pretrained/pretrained_hparams.py\" --tts_weights \"/content/TrumpSpeak/checkpoints/ljspeech_tts.forward/$modelWeights\" wavernn --voc_weights \"/content/TrumpSpeak/pretrained/wave_800K.pyt\" --batched --target=1024 --overlap=128\n",
        "    playMostRecent()\n",
        "    line = fp.readline()\n"
      ],
      "execution_count": null,
      "outputs": []
    },
    {
      "cell_type": "markdown",
      "metadata": {
        "id": "twv3bkOlsqSa"
      },
      "source": [
        "#Not particularly useful stuff"
      ]
    },
    {
      "cell_type": "code",
      "metadata": {
        "id": "Ro6UyH27rTcX",
        "cellView": "form"
      },
      "source": [
        "#@title Print Available Checkpoints\n",
        "%cd /content/TrumpSpeak//checkpoints/ljspeech_tts.forward/\n",
        "%ls\n",
        "%cd /content/TrumpSpeak/checkpoints/ljspeech_tts.tacotron/\n",
        "%ls"
      ],
      "execution_count": null,
      "outputs": []
    },
    {
      "cell_type": "code",
      "metadata": {
        "id": "bzPAls9qKaSE",
        "cellView": "form"
      },
      "source": [
        "#@title Play All Audio Files\n",
        "import os\n",
        "import IPython\n",
        "from IPython.display import Audio as play\n",
        "from pathlib import Path\n",
        "import time\n",
        "\n",
        "def playAllAudio():\n",
        "  out_path = \"/content/output/\"\n",
        "  %cd $out_path\n",
        "  files = os.listdir(out_path)\n",
        "  latest_file = max(files, key=os.path.getctime)\n",
        "  player = [play(out_path + files[0])]\n",
        "  playerIndex = 0\n",
        "  print()\n",
        "  for x in range(0,len(files)):\n",
        "    if Path(out_path + files[x]).suffix == '.wav':\n",
        "      print(files[x])\n",
        "      player.append(play(out_path + files[x]))\n",
        "      playerIndex+=1\n",
        "      time.sleep(1)\n",
        "      IPython.display.display(player[playerIndex])\n",
        "      time.sleep(1)\n",
        "      print()\n",
        "\n",
        "\n",
        "playAllAudio()\n"
      ],
      "execution_count": null,
      "outputs": []
    }
  ]
}